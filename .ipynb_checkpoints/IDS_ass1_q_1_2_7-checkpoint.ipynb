{
 "cells": [
  {
   "cell_type": "markdown",
   "metadata": {},
   "source": [
    "# The first part of the assignment, IDS 2020-2021\n",
    "In this Jupiter notebook, please, document your results and the way you have obtained them. Please use the _Python environment_ provided at the beginning of the course. In addition to the _Jupiter notebook_, please submit _one zip-file_ containing all datasets and other outputs you have generated (such as pdf, jpg, and others). Please make sure that the datasets and other outputs are easily identifiable, i.e. use names as requested in the corresponding question.\n",
    "\n",
    "This is the _only_ submission that is required (Jupiter notebook + zip-file). A separate report is _not_ needed and will not be considered for grading. \n",
    "\n",
    "Give your commented Python code and answers in the corresponding provided cells. Make sure to answer all questions in a clear and explicit manner and discuss your outputs. _Please do not change the general structure of this notebook_. You can, however, add additional markdown or code cells if necessary. <b>Please DO NOT CLEAR THE OUTPUT of the notebook you are submitting! </b>\n",
    "\n",
    "<font color=\"red\"> *Please make sure to include names and matriculation numbers of all group members in the slot provided below.* </font> If a name or a student id is missing, the student will not receive any points.\n",
    "\n",
    "Hint 1: While working on the assignment, you will get a better understanding of the dataset. Feel free to generate additional results and visualizations to support your answers. For example, this might be useful regarding data modification and simplification. <font color=\"red\">Ensure that all your claims are supported.</font>\n",
    "\n",
    "Hint 2: <font color=\"red\">Plan your time wisely. </font> A few parts of this assignment might take some time to run. It might be necessary to consider time management when you plan your group work.\n",
    "\n",
    "Hint 3: RWTHmoodle allows multiple submissions, with every new submission overwriting the previous one. <b>Partial submissions are therefore possible and encouraged. </b> This might be helpful in case of technical issues with RWTHMoodle, which may occur close to the deadline.\n"
   ]
  },
  {
   "cell_type": "markdown",
   "metadata": {},
   "source": [
    "<font color=\"red\"><b>Student Names and IDs:\n",
    "    \n",
    "    1.    \n",
    "  \n",
    "    2. \n",
    "    \n",
    "    3."
   ]
  },
  {
   "cell_type": "markdown",
   "metadata": {},
   "source": [
    "## Preprocessing of the Dataset (5 points)\n",
    " Carry out the following preprocessing steps before starting the analysis:\n",
    " - Select 90% of dataset provided for this assignment by random sampling.\n",
    "     - Use one of the group member's student numbers as a seed.\n",
    "     - Rename the new generated dataset (which contains 90% of the data) to \"sampled_data\".\n",
    " - <font color='red'>Important!</font>  Export your *sampled_data* dataset and submit it with your assignment solution.\n",
    " - If it is not otherwise mentioned, you should always use your below created *sampled_data* as input for the questions."
   ]
  },
  {
   "cell_type": "code",
   "execution_count": 1,
   "metadata": {},
   "outputs": [
    {
     "name": "stderr",
     "output_type": "stream",
     "text": [
      "/home/mohit/newanaconda/lib/python3.7/site-packages/sklearn/externals/six.py:31: FutureWarning: The module is deprecated in version 0.21 and will be removed in version 0.23 since we've dropped support for Python 2.7. Please rely on the official version of six (https://pypi.org/project/six/).\n",
      "  \"(https://pypi.org/project/six/).\", FutureWarning)\n"
     ]
    }
   ],
   "source": [
    "# imports\n",
    "import pandas as pd\n",
    "import numpy as np\n",
    "import matplotlib.pyplot as plt\n",
    "import seaborn as sns\n",
    "import statistics as stats\n",
    "from sklearn.tree import DecisionTreeClassifier # Import Decision Tree Classifier\n",
    "from sklearn import tree\n",
    "from sklearn.model_selection import train_test_split # Import train_test_split function\n",
    "from sklearn import metrics #Import scikit-learn metrics module for accuracy calculation\n",
    "from sklearn.tree import export_graphviz\n",
    "from sklearn.externals.six import StringIO  \n",
    "from IPython.display import Image  \n",
    "import pydotplus\n",
    "from subprocess import check_output\n",
    "from scipy.cluster.hierarchy import dendrogram\n",
    "from sklearn.cluster import AgglomerativeClustering\n",
    "#from sklearn.cluster import AgglomerativeClustering\n",
    "import scipy.cluster.hierarchy as sch\n",
    "from sklearn.metrics import classification_report, confusion_matrix\n",
    "from sklearn.metrics import precision_recall_fscore_support as score\n",
    "from sklearn.feature_selection import RFE\n",
    "from sklearn.linear_model import LogisticRegression\n",
    "%matplotlib inline"
   ]
  },
  {
   "cell_type": "code",
   "execution_count": 2,
   "metadata": {},
   "outputs": [
    {
     "name": "stdout",
     "output_type": "stream",
     "text": [
      "Pre-processing step completed\n"
     ]
    }
   ],
   "source": [
    "# Pre-processing the data\n",
    "df = pd.read_csv('dataset.csv')\n",
    "sampled_df = df.sample(frac=0.9, random_state=403340)\n",
    "sampled_df.to_csv('sampled_data.csv', index=False)\n",
    "print('Pre-processing step completed')"
   ]
  },
  {
   "cell_type": "markdown",
   "metadata": {},
   "source": [
    "## Question 1 - Insights into the Data (15 points):"
   ]
  },
  {
   "cell_type": "markdown",
   "metadata": {},
   "source": [
    "   (a)  Generate a dataset by removing those rows of the sampled_data dataset for which the value of \"SurfaceR\" is equal or bigger than 50000. Let's call this data set \"new_sampled_data\"."
   ]
  },
  {
   "cell_type": "code",
   "execution_count": 3,
   "metadata": {},
   "outputs": [],
   "source": [
    "# Generate new df from sampled df by removing values of 'SurfaceR' greater than 50,000\n",
    "new_sampled_df = sampled_df[ sampled_df['SurfaceR']<50000 ]\n",
    "new_sampled_df.to_csv('new_sampled_data.csv', index=False)"
   ]
  },
  {
   "cell_type": "markdown",
   "metadata": {},
   "source": [
    "   (b)  Use a boxplot to find and remove the outliers from \"SurfaceR\". Note that based on the boxplot the values greater than the upper-whisker and lower than the lower-whisker are considered as outliers. Let's call the dataset after removing the outliers \"cleaned_data\". Now you should  have three datasets (sampled_data, new_sampled_data, and cleaned_data). "
   ]
  },
  {
   "cell_type": "code",
   "execution_count": 4,
   "metadata": {},
   "outputs": [
    {
     "data": {
      "image/png": "[encoded data removed]",
      "text/plain": [
       "<Figure size 432x288 with 1 Axes>"
      ]
     },
     "metadata": {
      "needs_background": "light"
     },
     "output_type": "display_data"
    },
    {
     "data": {
      "text/plain": [
       "<Figure size 864x720 with 0 Axes>"
      ]
     },
     "metadata": {},
     "output_type": "display_data"
    }
   ],
   "source": [
    "# Creat a box-plot for the column 'SurfaceR'\n",
    "new_sampled_df.boxplot(column=['SurfaceR'])\n",
    "plt.title('Box plot of SurfaceR')\n",
    "plt.figure(figsize=(12,10))\n",
    "plt.show()"
   ]
  },
  {
   "cell_type": "markdown",
   "metadata": {},
   "source": [
    "### Observations:\n",
    "- As we can see in this box-plot, we found some outliers (represented by hollow circles in the plot) above the outer-whisker.\n",
    "- No outliers were found below the lower-whisker. Moreover, the data seems skewed and the concentration of the data looks closer to the lower whisker as the mean line (repersented in green color) is closer to lower whisker."
   ]
  },
  {
   "cell_type": "code",
   "execution_count": 5,
   "metadata": {},
   "outputs": [],
   "source": [
    "# Remove the outliers using a filter\n",
    "Q1 = new_sampled_df['SurfaceR'].quantile(0.25)\n",
    "Q3 = new_sampled_df['SurfaceR'].quantile(0.75)\n",
    "IQR = Q3 - Q1    #IQR is interquartile range\n",
    "filter = (new_sampled_df['SurfaceR'] >= Q1 - 1.5 * IQR) & (new_sampled_df['SurfaceR'] <= Q3 + 1.5 *IQR)\n",
    "cleaned_df = new_sampled_df.loc[filter]  # filters the outliers from new sampled df\n",
    "cleaned_df.to_csv('cleaned_data.csv', index=False)"
   ]
  },
  {
   "cell_type": "markdown",
   "metadata": {},
   "source": [
    "   (c) Compare basic statistical features of \"SurfaceR\" (median, mean, and mode, standard deviation, variance) in the new_sampled_data and cleaned_data datasets.    Interpret the differences for these statistical values between the cleaned_data and new_sampled_data datasets. Explain why the statistics of these two datasets are different."
   ]
  },
  {
   "cell_type": "code",
   "execution_count": 6,
   "metadata": {},
   "outputs": [
    {
     "name": "stdout",
     "output_type": "stream",
     "text": [
      "count      164.000000\n",
      "mean      3773.780488\n",
      "std       7548.841887\n",
      "min         50.000000\n",
      "25%        300.000000\n",
      "50%        700.000000\n",
      "75%       3000.000000\n",
      "max      40000.000000\n",
      "Name: SurfaceR, dtype: float64\n",
      "Median: 700.0\n",
      "Mode: 0    300\n",
      "dtype: int64\n"
     ]
    }
   ],
   "source": [
    "# Print statistical features of SurfaceR in new sampled data\n",
    "print(new_sampled_df['SurfaceR'].describe())\n",
    "print('Median:',new_sampled_df['SurfaceR'].median())\n",
    "print('Mode:',new_sampled_df['SurfaceR'].mode())"
   ]
  },
  {
   "cell_type": "code",
   "execution_count": 7,
   "metadata": {},
   "outputs": [
    {
     "name": "stdout",
     "output_type": "stream",
     "text": [
      "count     141.000000\n",
      "mean     1259.574468\n",
      "std      1577.304605\n",
      "min        50.000000\n",
      "25%       300.000000\n",
      "50%       450.000000\n",
      "75%      1700.000000\n",
      "max      7000.000000\n",
      "Name: SurfaceR, dtype: float64\n",
      "Median: 450.0\n",
      "Mode: 0    300\n",
      "dtype: int64\n"
     ]
    }
   ],
   "source": [
    "# Print statistical features of SurfaceR in cleaned data\n",
    "print(cleaned_df['SurfaceR'].describe())\n",
    "print('Median:',cleaned_df['SurfaceR'].median())\n",
    "print('Mode:',cleaned_df['SurfaceR'].mode())"
   ]
  },
  {
   "cell_type": "markdown",
   "metadata": {},
   "source": [
    "### Observations:\n",
    "- As we can see from the above given box-plot, the feature 'SurfaceR' in new_sampled_data had some outliers. After removing the outlier from the data, we get cleaned_data.\n",
    "- There are 164 data entries in new_sampled_data and 141 data entries in cleaned_data. This means 23 data entries were found to be outliers.\n",
    "- As we can see from the box plot, there were no outliers below the lower whisker but all the outliers were above the upper whisker. This means that the data entries that were removed from 'SurfaceR' had high values and hence we can see that there is significant decrease in the values of mean and median of cleaned_data as compared to new_sampled_data.\n",
    "- The same reason explains why the values of max, standard deviation (and variance), 0.5 qunatile and 0.75 quantile  has been reduced drastically while keeping the minimum value and 0.25 qunatile value same.\n",
    "- Mode remains the same as the data lower than upper whisker remains unchanged."
   ]
  },
  {
   "cell_type": "markdown",
   "metadata": {},
   "source": [
    "### Basic Visualization (10 points)\n",
    "(d) Visualize mean and median of \"SurfaceR\" in the cleaned dataset. Specify the \"Surroundings3\" values for which the mean and median of \"SurfaceR\" is maximal and for which it is minimal."
   ]
  },
  {
   "cell_type": "code",
   "execution_count": 8,
   "metadata": {},
   "outputs": [],
   "source": [
    "# Group by surroundings3 and find mean/median\n",
    "surr3_mean = cleaned_df.groupby(['Surroundings3']).mean()\n",
    "surr3_median = cleaned_df.groupby(['Surroundings3']).median()"
   ]
  },
  {
   "cell_type": "code",
   "execution_count": 9,
   "metadata": {},
   "outputs": [],
   "source": [
    "# This function calculates the value of height of the bar and adds label to it. \n",
    "def autolabel(rects):\n",
    "    \"\"\"Attach a text label above each bar in *rects*, displaying its height.\"\"\"\n",
    "    for rect in rects:\n",
    "        height = round(rect.get_height(), 2)\n",
    "        ax.annotate('{}'.format(height),\n",
    "                    xy=(rect.get_x() + rect.get_width() / 2, height),\n",
    "                    xytext=(0, 3),\n",
    "                    textcoords=\"offset points\",ha='center', va='bottom')"
   ]
  },
  {
   "cell_type": "code",
   "execution_count": 10,
   "metadata": {},
   "outputs": [
    {
     "data": {
      "image/png": "[encoded data removed]",
      "text/plain": [
       "<Figure size 864x720 with 1 Axes>"
      ]
     },
     "metadata": {
      "needs_background": "light"
     },
     "output_type": "display_data"
    }
   ],
   "source": [
    "# Set the dimensions of the chart and create bar chart\n",
    "ind = np.arange(len(surr3_mean.index))\n",
    "\n",
    "width = 0.35  # the width of the bars\n",
    "fig, ax = plt.subplots(figsize=(12,10))\n",
    "mean_bar = ax.bar(ind - width/2-0.01, list(surr3_mean['SurfaceR']), width, label='Mean')\n",
    "median_bar = ax.bar(ind + width/2+0.01, list(surr3_median['SurfaceR']), width, label='Median')\n",
    "plt.xticks(ind,list(surr3_mean.index))\n",
    "\n",
    "# Create labels for the bar chart\n",
    "autolabel(mean_bar)\n",
    "autolabel(median_bar)\n",
    "ax.set_xlabel('Surroundings3')\n",
    "ax.set_ylabel('Count')\n",
    "ax.set_title('Mean and Median for different Surroundings3 values')\n",
    "ax.legend()\n",
    "plt.show()  "
   ]
  },
  {
   "cell_type": "markdown",
   "metadata": {},
   "source": [
    "### Observations:\n",
    "- The maximum value of mean is 3250 for 'd' (parks) and minimum value of mean is 916.67 for 'e' (dense buildings).\n",
    "- The maximum value of median is 3250 for 'd' (parks) and minimum value of median is 300 for 'a' (forest)."
   ]
  },
  {
   "cell_type": "markdown",
   "metadata": {},
   "source": [
    "   (e) Plot the distribution of \"SurfaceR\" in the new_sampled_data and cleaned_data datasets."
   ]
  },
  {
   "cell_type": "code",
   "execution_count": 11,
   "metadata": {},
   "outputs": [
    {
     "name": "stdout",
     "output_type": "stream",
     "text": [
      "Distribution of SurfaceR in new_sampled_data\n"
     ]
    },
    {
     "data": {
      "image/png": "[encoded data removed]",
      "text/plain": [
       "<Figure size 432x288 with 1 Axes>"
      ]
     },
     "metadata": {
      "needs_background": "light"
     },
     "output_type": "display_data"
    },
    {
     "name": "stdout",
     "output_type": "stream",
     "text": [
      "Distribution of SurfaceR in cleaned_data\n"
     ]
    },
    {
     "data": {
      "image/png": "[encoded data removed]",
      "text/plain": [
       "<Figure size 432x288 with 1 Axes>"
      ]
     },
     "metadata": {
      "needs_background": "light"
     },
     "output_type": "display_data"
    }
   ],
   "source": [
    "# Distribution of SurfaceR in the new sampled data and cleaned data\n",
    "print('Distribution of SurfaceR in new_sampled_data')\n",
    "new_sampled_df['SurfaceR'].hist(bins=8)\n",
    "plt.xlabel('equal width bins of range 5000 each')\n",
    "plt.ylabel('SurfaceR')\n",
    "plt.show()\n",
    "print('Distribution of SurfaceR in cleaned_data')\n",
    "cleaned_df['SurfaceR'].hist(bins=7)\n",
    "plt.xlabel('equal width bins of range 1000 each')\n",
    "plt.ylabel('# of SurfaceR')\n",
    "plt.show()"
   ]
  },
  {
   "cell_type": "markdown",
   "metadata": {},
   "source": [
    "   (f) Explore the distribution of \"SurfaceR\" and \"AcessR\" together in the new_sampled_data and cleaned_data datasets. Specify the ranges of \"SurfaceR\" and \"AcessR\" for which the frequency of the data is the highest."
   ]
  },
  {
   "cell_type": "code",
   "execution_count": 12,
   "metadata": {},
   "outputs": [
    {
     "data": {
      "image/png": "[encoded data removed]",
      "text/plain": [
       "<Figure size 1080x720 with 2 Axes>"
      ]
     },
     "metadata": {
      "needs_background": "light"
     },
     "output_type": "display_data"
    },
    {
     "data": {
      "image/png": "[encoded data removed]",
      "text/plain": [
       "<Figure size 1080x720 with 2 Axes>"
      ]
     },
     "metadata": {
      "needs_background": "light"
     },
     "output_type": "display_data"
    }
   ],
   "source": [
    "# Create a 2d-histogram for SurfaceR and AcessR together in the new sampled data \n",
    "plt.figure(figsize=(15,10))\n",
    "plt.hist2d(x=new_sampled_df['SurfaceR'], y=new_sampled_df['AcessR'], bins=[8,8]) # Plot a heat map (2-D histogram) using the data\n",
    "plt.xlabel('SurfaceR')\n",
    "plt.ylabel('AcessR')\n",
    "cbar = plt.colorbar()\n",
    "cbar.ax.set_ylabel('color intensity')\n",
    "plt.title('SurfaceR vs AcessR for new_sampled_data')\n",
    "plt.show()\n",
    "\n",
    "# Create a 2d-histogram for SurfaceR and AcessR together in the cleaned data\n",
    "plt.figure(figsize=(15,10))\n",
    "plt.hist2d(x=cleaned_df['SurfaceR'], y=cleaned_df['AcessR'], bins=[7,8]) # Plot a heat map (2-D histogram) using the data\n",
    "plt.xlabel('SurfaceR')\n",
    "plt.ylabel('AcessR')\n",
    "cbar = plt.colorbar()\n",
    "cbar.ax.set_ylabel('color intensity')\n",
    "plt.title('SurfaceR vs AcessR for cleaned_data')\n",
    "plt.show()"
   ]
  },
  {
   "cell_type": "markdown",
   "metadata": {},
   "source": [
    "### Observations\n",
    "- In the above given 2d histograms, the high frequency of AccessR & SurfaceR distribution combined is shown by the area in (light) yellow color and the relative low frequency of AccessR & SurfaceR distribution combined is shown by the area in (dark) purple color.\n",
    "- The first graph, plots AcessR & SurfaceR from new_sampled_data and the high frequency of combined data can be seen in the range of 0 - 5000 for SurfaceR and 90 - 100 for AcessR.\n",
    "- The second graph, plots AcessR & SurfaceR from cleaned_data and the high frequency of combined data can be seen in the range of 0 - 1000 for SurfaceR and 90 - 100 for AcessR.\n"
   ]
  },
  {
   "cell_type": "markdown",
   "metadata": {},
   "source": [
    "## Question 2 - Decision Trees (15 points):"
   ]
  },
  {
   "cell_type": "markdown",
   "metadata": {},
   "source": [
    "   (a) Add a categorical column \"number_frogs\" to the new_sampled_data which indicate the number of different frogs in each region (row). For example, if in a row we have:\n",
    "       - \"Green frogs\" = 1, \"Brown frogs\" = 1, \"Common toad\" = 0, \"Fire-bellied toad\" = 0, \"Tree frog\" = 0, \"Common newt\" = 0, and \"Great crested newt\" = 0, then \"number_frogs\" = 'two'.\n",
    "       - \"Green frogs\" = 1, \"Brown frogs\" = 1, \"Common toad\" = 0, \"Fire-bellied toad\" = 0, \"Tree frog\" = 1, \"Common newt\" = 1, and \"Great crested newt\" = 0, then \"number_frogs\" = 'four'."
   ]
  },
  {
   "cell_type": "code",
   "execution_count": 13,
   "metadata": {},
   "outputs": [
    {
     "name": "stdout",
     "output_type": "stream",
     "text": [
      "--Ignore the warnings--\n"
     ]
    },
    {
     "name": "stderr",
     "output_type": "stream",
     "text": [
      "/home/mohit/newanaconda/lib/python3.7/site-packages/ipykernel_launcher.py:3: SettingWithCopyWarning: \n",
      "A value is trying to be set on a copy of a slice from a DataFrame.\n",
      "Try using .loc[row_indexer,col_indexer] = value instead\n",
      "\n",
      "See the caveats in the documentation: https://pandas.pydata.org/pandas-docs/stable/user_guide/indexing.html#returning-a-view-versus-a-copy\n",
      "  This is separate from the ipykernel package so we can avoid doing imports until\n",
      "/home/mohit/newanaconda/lib/python3.7/site-packages/ipykernel_launcher.py:4: SettingWithCopyWarning: \n",
      "A value is trying to be set on a copy of a slice from a DataFrame.\n",
      "Try using .loc[row_indexer,col_indexer] = value instead\n",
      "\n",
      "See the caveats in the documentation: https://pandas.pydata.org/pandas-docs/stable/user_guide/indexing.html#returning-a-view-versus-a-copy\n",
      "  after removing the cwd from sys.path.\n",
      "/home/mohit/newanaconda/lib/python3.7/site-packages/pandas/core/indexing.py:965: SettingWithCopyWarning: \n",
      "A value is trying to be set on a copy of a slice from a DataFrame.\n",
      "Try using .loc[row_indexer,col_indexer] = value instead\n",
      "\n",
      "See the caveats in the documentation: https://pandas.pydata.org/pandas-docs/stable/user_guide/indexing.html#returning-a-view-versus-a-copy\n",
      "  self.obj[item] = s\n"
     ]
    }
   ],
   "source": [
    "# Calcute total number of frogs from different frog categories\n",
    "num_to_char = {0:'zero', 1:'one', 2:'two', 3:'three', 4:'four', 5:'five', 6:'six', 7:'seven'}\n",
    "new_sampled_df['number_frogs_int'] = new_sampled_df['Green frogs'] + new_sampled_df['Brown frogs'] + new_sampled_df['Common toad'] + new_sampled_df['Fire-bellied toad'] + new_sampled_df['Tree frog'] + new_sampled_df['Common newt'] + new_sampled_df['Great crested newt']\n",
    "new_sampled_df['number_frogs'] = \"\"\n",
    "nfrogs_index = new_sampled_df.columns.get_loc(\"number_frogs\")\n",
    "nfrogsint_index = new_sampled_df.columns.get_loc(\"number_frogs_int\")\n",
    "for i in range(len(new_sampled_df)):\n",
    "    new_sampled_df.iloc[i,nfrogs_index] = num_to_char[new_sampled_df.iloc[i,nfrogsint_index]]\n",
    "print('--Ignore the warnings--')"
   ]
  },
  {
   "cell_type": "markdown",
   "metadata": {},
   "source": [
    "   (b) In the new dataset (created in Section 'a'), consider \"TypeR\", \"VegetationR\", \"Surroundings1\", \"Surroundings2\", \"Surroundings3\" as    the descriptive features and \"number_frogs\" as the target feature. Generate two decision trees. Let's call them \"tree1\" and \"tree2\". In tree1 set the minimum number of samples for splitting to 15 and in tree2 set the minimum number of samples for splitting to 1. Create both decision trees based on entropy."
   ]
  },
  {
   "cell_type": "markdown",
   "metadata": {},
   "source": [
    "### Please note:\n",
    "- When we tried to set the 'min_samples_split'=1 we got the error stating - ValueError: min_samples_split must be an integer greater than 1 or a float in (0.0, 1.0]. \n",
    "- We tried to create decision tree with the value 1.0 but if min_samples_split is a fraction then 'min_samples_split * n_samples' (164 in our case) becomes the minimum number of samples for each split which we don't think is correct because the decision tree undergoes only one split and contains 3 only nodes including root node.\n",
    "- So for tree2, we calculate min_samples_split to be 1/(number of samples)."
   ]
  },
  {
   "cell_type": "code",
   "execution_count": 14,
   "metadata": {},
   "outputs": [
    {
     "name": "stdout",
     "output_type": "stream",
     "text": [
      "Done\n",
      "Done\n"
     ]
    }
   ],
   "source": [
    "# Extract the required data from new sampled data\n",
    "features = ['TypeR', 'VegetationR', 'Surroundings1', 'Surroundings2','Surroundings3']\n",
    "one_hot_features = pd.get_dummies(new_sampled_df[features])\n",
    "one_hot_features_names = list(one_hot_features.columns)\n",
    "X = one_hot_features \n",
    "y = new_sampled_df['number_frogs'] \n",
    "\n",
    "X_train, X_test, y_train, y_test = train_test_split(X, y, test_size=0.35, random_state=403340) # 65% training 35% test\n",
    "\n",
    "# Create 2 different decision tree classifiers  \n",
    "tree1 = DecisionTreeClassifier(criterion = 'entropy', min_samples_split=15).fit(X_train,y_train)\n",
    "tree2 = DecisionTreeClassifier(criterion = 'entropy', min_samples_split=1/len(X)).fit(X_train,y_train)\n",
    "\n",
    "#Print the decision tree1\n",
    "dot_file = \"Decision_tree1_2_b.dot\"\n",
    "pdf_file = \"Decision_tree1_2_b.pdf\"\n",
    "with open(dot_file, \"w\") as f:\n",
    "    f = tree.export_graphviz(tree1, out_file=f, feature_names= one_hot_features_names, class_names=list(num_to_char.values()), \n",
    "                                 filled=True, rounded=True)\n",
    "try:\n",
    "    check_output(\"dot -Tpdf \"+ dot_file + \" -o \" + pdf_file , shell=True)\n",
    "    print(\"Done\")\n",
    "except:\n",
    "    print(\"Error\")\n",
    "\n",
    "\n",
    "#Print the decision tree2\n",
    "dot_file = \"Decision_tree2_2_b.dot\"\n",
    "pdf_file = \"Decision_tree2_2_b.pdf\"\n",
    "with open(dot_file, \"w\") as f:\n",
    "    f = tree.export_graphviz(tree2, out_file=f, feature_names= one_hot_features_names, class_names=list(num_to_char.values()), \n",
    "                                 filled=True, rounded=True)\n",
    "try:\n",
    "    check_output(\"dot -Tpdf \"+ dot_file + \" -o \" + pdf_file , shell=True)\n",
    "    print(\"Done\")\n",
    "except:\n",
    "    print(\"Error\")"
   ]
  },
  {
   "cell_type": "markdown",
   "metadata": {},
   "source": [
    "   (c) Consider tree1. What is the best attribute (based on entropy) for splitting the tree in the second round of ID3 regarding the value of the attribute chosen in the first round of ID3?    "
   ]
  },
  {
   "cell_type": "markdown",
   "metadata": {},
   "source": [
    "### Explaination:\n",
    "- The textual representation of decision trees can sometimes help in understanding the internal working of its algorithm especially when we want to interprete the splitting of decision tree. \n",
    "- The code below, converts decision tree classifier into human understandable psuedo-code.The code in the below section has been taken from an external website with an intent to focus more on the interpretability of splitting. ( https://www.kdnuggets.com/2017/05/simplifying-decision-tree-interpretation-decision-rules-python.html )"
   ]
  },
  {
   "cell_type": "code",
   "execution_count": 15,
   "metadata": {},
   "outputs": [],
   "source": [
    "# This function converts Decision Tree classifier to psuedo-code\n",
    "def tree_to_pseudo(tree, feature_names):\n",
    "\n",
    "    left = tree.tree_.children_left\n",
    "    right = tree.tree_.children_right\n",
    "    threshold = tree.tree_.threshold\n",
    "    features = [feature_names[i] for i in tree.tree_.feature]\n",
    "    value = tree.tree_.value\n",
    "\n",
    "    def recurse(left, right, threshold, features, node, depth=0):\n",
    "        indent = \"  \" * depth\n",
    "        if (threshold[node] != -2):\n",
    "            print(indent,\"if ( \" + features[node] + \" <= \" + str(threshold[node]) + \" ) {\")\n",
    "            if left[node] != -1:\n",
    "                recurse (left, right, threshold, features, left[node], depth+1)\n",
    "                print(indent,\"} else {\")\n",
    "            if right[node] != -1:\n",
    "                recurse (left, right, threshold, features, right[node], depth+1)\n",
    "                print(indent,\"}\")\n",
    "        else:\n",
    "            print(indent,\"return \" + str(value[node]))\n",
    "    recurse(left, right, threshold, features, 0)"
   ]
  },
  {
   "cell_type": "code",
   "execution_count": 16,
   "metadata": {},
   "outputs": [
    {
     "name": "stdout",
     "output_type": "stream",
     "text": [
      " if ( TypeR_a <= 0.5 ) {\n",
      "   if ( Surroundings3_h <= 0.5 ) {\n",
      "     if ( Surroundings2_h <= 0.5 ) {\n",
      "       if ( TypeR_i <= 0.5 ) {\n",
      "         if ( Surroundings3_e <= 0.5 ) {\n",
      "           return [[0. 2. 3. 0. 0. 4. 4. 0.]]\n",
      "         } else {\n",
      "           return [[0. 0. 3. 0. 0. 0. 6. 0.]]\n",
      "         }\n",
      "       } else {\n",
      "         return [[1. 0. 3. 0. 0. 0. 0. 0.]]\n",
      "       }\n",
      "     } else {\n",
      "       return [[2. 0. 4. 0. 0. 0. 0. 1.]]\n",
      "     }\n",
      "   } else {\n",
      "     return [[0. 0. 1. 0. 1. 6. 2. 1.]]\n",
      "   }\n",
      " } else {\n",
      "   if ( VegetationR <= 1.5 ) {\n",
      "     if ( VegetationR <= 0.5 ) {\n",
      "       return [[0. 1. 4. 0. 1. 3. 1. 0.]]\n",
      "     } else {\n",
      "       if ( Surroundings1_b <= 0.5 ) {\n",
      "         return [[2. 1. 0. 0. 3. 2. 0. 0.]]\n",
      "       } else {\n",
      "         return [[0. 4. 0. 0. 2. 0. 2. 0.]]\n",
      "       }\n",
      "     }\n",
      "   } else {\n",
      "     if ( Surroundings2_e <= 0.5 ) {\n",
      "       if ( Surroundings2_h <= 0.5 ) {\n",
      "         if ( Surroundings1_h <= 0.5 ) {\n",
      "           if ( Surroundings3_g <= 0.5 ) {\n",
      "             if ( Surroundings2_f <= 0.5 ) {\n",
      "               return [[5. 1. 2. 0. 0. 2. 4. 0.]]\n",
      "             } else {\n",
      "               return [[0. 1. 2. 0. 0. 0. 1. 0.]]\n",
      "             }\n",
      "           } else {\n",
      "             return [[0. 0. 3. 0. 0. 0. 0. 0.]]\n",
      "           }\n",
      "         } else {\n",
      "           return [[1. 0. 0. 0. 1. 1. 0. 0.]]\n",
      "         }\n",
      "       } else {\n",
      "         return [[0. 2. 0. 0. 1. 0. 2. 0.]]\n",
      "       }\n",
      "     } else {\n",
      "       return [[3. 0. 1. 2. 0. 0. 1. 0.]]\n",
      "     }\n",
      "   }\n",
      " }\n"
     ]
    }
   ],
   "source": [
    "# Prints the decision tree in psuedo-code\n",
    "tree_to_pseudo(tree1, list(X_train.columns))"
   ]
  },
  {
   "cell_type": "markdown",
   "metadata": {},
   "source": [
    "### Observations:\n",
    "<ul>\n",
    "<li><u>Based on the generated psuedo-code </u><br>\n",
    " <ul><li>As we can see from the above given psuedo-code, after the first round of ID3 algorithm, the tree splits on TypeR_a (natural reservoirs) attribute which acts as a root node in this decision tree. </li>\n",
    " <li>Then the second round of ID3 algorithm splits the tree again based on the value of attribute 'Surrounding3_h' (roads as third type of surrounding).</li></ul>\n",
    "</li>\n",
    "<li><u>Based on the decision tree</u><br>\n",
    "<ul><li>As we can see from the decision tree, entropy of root node is 2.67 while the entropy of its left child (Surroundings3_h) is 2.31 and that of right child (Vegetation_R) is 2.69. </li>\n",
    "<li> As per ID3 algorithm, attribute having less entropy has high information gain and so the attribute 'Surroundings3_h' is selected to split decision tree in the second round of ID3.</li></ul>\n",
    "</ul>"
   ]
  },
  {
   "cell_type": "markdown",
   "metadata": {},
   "source": [
    "(d) Compare tree1 and tree2 in terms of the possibility of overfitting and the complexity of the decision trees."
   ]
  },
  {
   "cell_type": "code",
   "execution_count": 17,
   "metadata": {},
   "outputs": [
    {
     "name": "stdout",
     "output_type": "stream",
     "text": [
      "              precision    recall  f1-score   support\n",
      "\n",
      "        five       0.50      0.22      0.31         9\n",
      "        four       0.25      0.50      0.33         6\n",
      "         one       0.19      0.38      0.25         8\n",
      "       seven       0.00      0.00      0.00         6\n",
      "         six       0.44      0.80      0.57         5\n",
      "       three       0.17      0.11      0.13         9\n",
      "         two       0.20      0.17      0.18        12\n",
      "        zero       0.00      0.00      0.00         3\n",
      "\n",
      "    accuracy                           0.26        58\n",
      "   macro avg       0.22      0.27      0.22        58\n",
      "weighted avg       0.23      0.26      0.22        58\n",
      "\n"
     ]
    },
    {
     "name": "stderr",
     "output_type": "stream",
     "text": [
      "/home/mohit/newanaconda/lib/python3.7/site-packages/sklearn/metrics/_classification.py:1272: UndefinedMetricWarning: Precision and F-score are ill-defined and being set to 0.0 in labels with no predicted samples. Use `zero_division` parameter to control this behavior.\n",
      "  _warn_prf(average, modifier, msg_start, len(result))\n"
     ]
    }
   ],
   "source": [
    "# Calculate accuracy for tree2\n",
    "tree2_y_pred = tree2.predict(X_test)\n",
    "print(classification_report(y_test,tree2_y_pred))"
   ]
  },
  {
   "cell_type": "markdown",
   "metadata": {},
   "source": [
    "### Explaination:\n",
    "- The only difference between the two decision tree classifiers is in the value of attribute 'min_samples_split'. The min_samples_split parameter will evaluate the number of samples in the internal node (non-leaf node) and if the number is less than the minimum number of split, then the split will be avoided and the node will be a leaf.\n",
    "- In tree1 the value of min_samples_split is 15. In tree2 the value of min_samples_split is 1. We can see a huge difference in both the decision trees.\n",
    "- The depth of tree1 is 8 while that of tree2 is 13. Visually, tree2 looks very deep, complex and difficult to understand as compared to tree1. \n",
    "- In tree2, the min sample split is 1. So the entropy of every leaf node is 0. the reason for this is the training data overfits the model and this results in lower training accuracy (0.22) as compared to tree 1. "
   ]
  },
  {
   "cell_type": "markdown",
   "metadata": {},
   "source": [
    "## Question 3 - Regression (14 points):\n",
    "\n",
    "For this question (Q3), create and use a restricted dataset by removing the columns \"ID\", \"NumberR\", \"Surrounding1\", \"Surrounding2\", \"Surrounding3\", \"Common toad\", \"Fire-bellied toad\", \"Tree frog\", \"Common newt\", \"Great crested newt\" from the sampled_data.\n",
    "\n",
    "In this question, we consider \"Green frogs\" and \"Brown frogs\" to be potential target features, while all other features are potential descriptive features."
   ]
  },
  {
   "cell_type": "code",
   "execution_count": 18,
   "metadata": {},
   "outputs": [
    {
     "name": "stdout",
     "output_type": "stream",
     "text": [
      "Index(['RoadDistanceR', 'SurfaceR', 'TypeR', 'BuildingR', 'VegetationR',\n",
      "       'Brown frogs', 'AcessR', 'Green frogs', 'ShoreR', 'PollutionR', 'UseR',\n",
      "       'FishingR'],\n",
      "      dtype='object')\n"
     ]
    }
   ],
   "source": [
    "# Your code\n",
    "columns_to_be_removed = [\"ID\", \"NumberR\", \"Surroundings1\", \"Surroundings2\", \"Surroundings3\", \"Common toad\", \"Fire-bellied toad\", \"Tree frog\", \"Common newt\", \"Great crested newt\"]\n",
    "columns_to_keep = list(set(sampled_df.columns) - set(columns_to_be_removed))\n",
    "q3_df = sampled_df[columns_to_keep]\n",
    "q3_df.to_csv('q3_data.csv', index=False)\n",
    "print(q3_df.columns)"
   ]
  },
  {
   "cell_type": "markdown",
   "metadata": {},
   "source": [
    "   (a) Which features are suitable as input for logistic regression? Which would need to be modified first? Explain your answers."
   ]
  },
  {
   "cell_type": "code",
   "execution_count": 19,
   "metadata": {},
   "outputs": [
    {
     "name": "stdout",
     "output_type": "stream",
     "text": [
      "ShoreR: ['natural' 'concrete']\n",
      "TypeR: ['h' 'i' 'g' 'd' 'a' 'j' 'b' 'e']\n"
     ]
    }
   ],
   "source": [
    "# Your code\n",
    "print('ShoreR:', q3_df['ShoreR'].unique())\n",
    "print('TypeR:',q3_df['TypeR'].unique())"
   ]
  },
  {
   "cell_type": "markdown",
   "metadata": {},
   "source": [
    "- The input for Logistic Regression should either be continous values, binary-categorical (0/1) values or ordinal categorical values (0/1/2/3). Logistic Regression cannot take categorical values having no order as input. \n",
    "- The features such as 'BuildingR', 'SurfaceR', 'RoadDistanceR', 'Green frogs', 'AcessR','Brown frogs', FishingR', 'VegetationR','PollutionR','UseR' are suitable as input for logistic regression as they are either continous values, binary-categorical (0/1) values or ordinal categorical values (0/1/2/3).\n",
    "- As we can see above, features such as 'ShoreR' and 'TypeR' contain categorical values having no particular order. We have to modify them first i.e. apply one-hot-encoding before we pass them as an input to logistic regression."
   ]
  },
  {
   "cell_type": "markdown",
   "metadata": {},
   "source": [
    "   (b) Implement and briefly motivate an adequate modification. Print the resulting data set limited to the first two data rows. "
   ]
  },
  {
   "cell_type": "markdown",
   "metadata": {},
   "source": [
    "- Here we use DataFrame.get_dummies method to get the one-hot-encoded features from 'ShoreR' and 'TypeR' features. Then we delete original (categorical) features from the dataframe and we add our one-hot-encoded features to the dataset."
   ]
  },
  {
   "cell_type": "code",
   "execution_count": 20,
   "metadata": {},
   "outputs": [
    {
     "name": "stdout",
     "output_type": "stream",
     "text": [
      "     RoadDistanceR  SurfaceR  BuildingR  VegetationR  Brown frogs  AcessR  \\\n",
      "149              1       300          1            3            1     100   \n",
      "11               2       300          1            2            1     100   \n",
      "\n",
      "     Green frogs  PollutionR  UseR  FishingR  ShoreR_concrete  ShoreR_natural  \\\n",
      "149            1           0     0         0                0               1   \n",
      "11             0           0     0         0                0               1   \n",
      "\n",
      "     TypeR_a  TypeR_b  TypeR_d  TypeR_e  TypeR_g  TypeR_h  TypeR_i  TypeR_j  \n",
      "149        0        0        0        0        0        1        0        0  \n",
      "11         0        0        0        0        0        0        1        0  \n"
     ]
    }
   ],
   "source": [
    "# Your code\n",
    "features_to_be_modified = ['ShoreR', 'TypeR']\n",
    "one_hot_features = pd.get_dummies(q3_df[features_to_be_modified]) # Get one-hot-encoded data\n",
    "modified_q3_df = q3_df.copy()  \n",
    "modified_q3_df = modified_q3_df.drop(features_to_be_modified, axis=1) # Drop the original columns\n",
    "modified_q3_df = pd.concat([modified_q3_df, one_hot_features], axis=1) # Merge original data with one-hot-encoded data\n",
    "print(modified_q3_df.head(2))"
   ]
  },
  {
   "cell_type": "markdown",
   "metadata": {},
   "source": [
    "(c) We want to predict the presence of green frogs and brown frogs in the habitat, using a distinct logistic regression classifier for each frog type. \n",
    "\n",
    "Consider the set of features available in this question's unmodified data set (that is before Q3b). To get an overview of the data, choose and present some basic visualization as discussed in the lectures (e.g.  scatter matrix, scatter plots, charts, etc.). Based on this visualization, for each frog type choose the 4 most promising descriptive features to predict the presence of that frog type in the habitat. \n",
    "\n",
    "Explain your strategy and choices."
   ]
  },
  {
   "cell_type": "code",
   "execution_count": 21,
   "metadata": {},
   "outputs": [
    {
     "data": {
      "image/png": "[encoded data removed]",
      "text/plain": [
       "<Figure size 576x432 with 1 Axes>"
      ]
     },
     "metadata": {
      "needs_background": "light"
     },
     "output_type": "display_data"
    },
    {
     "data": {
      "image/png": "[encoded data removed]",
      "text/plain": [
       "<Figure size 720x432 with 1 Axes>"
      ]
     },
     "metadata": {
      "needs_background": "light"
     },
     "output_type": "display_data"
    }
   ],
   "source": [
    "# FishingR vs frogs\n",
    "grouped_for_fishingR = q3_df.groupby(['FishingR']).count()\n",
    "grouped_for_fishingR['Green frogs0'] = len(q3_df.index) - grouped_for_fishingR['Green frogs'] \n",
    "grouped_for_fishingR['Brown frogs0'] = len(q3_df.index) - grouped_for_fishingR['Brown frogs'] \n",
    "\n",
    "# Set the dimensions of the chart and create bar chart\n",
    "ind = np.arange(len(grouped_for_fishingR.index))\n",
    "width = 0.35  # the width of the bars\n",
    "fig, ax = plt.subplots(figsize=(8,6))\n",
    "gf1_bar = ax.bar(ind - width/2-0.01, list(grouped_for_fishingR['Green frogs']), width, label='GF present')\n",
    "gf0_bar = ax.bar(ind + width/2+0.01, list(grouped_for_fishingR['Green frogs0']), width, label='GF absent')\n",
    "# Create labels for the bar chart\n",
    "autolabel(gf1_bar)\n",
    "autolabel(gf0_bar)\n",
    "ax.set_xlabel('FishingR')\n",
    "ax.set_ylabel('Count')\n",
    "ax.set_title('Green frogs present/absent in various Fishing conditions')\n",
    "ax.set_xticks(list(grouped_for_fishingR.index))\n",
    "ax.legend()\n",
    "plt.show()  \n",
    "\n",
    "\n",
    "# Set the dimensions of the chart and create bar chart\n",
    "fig, ax = plt.subplots(figsize=(10,6))\n",
    "bf1_bar = ax.bar(ind - width/2-0.01, list(grouped_for_fishingR['Brown frogs']), width, label='BF present')\n",
    "bf0_bar = ax.bar(ind + width/2+0.01, list(grouped_for_fishingR['Brown frogs0']), width, label='BF absent')\n",
    "# Create labels for the bar chart\n",
    "autolabel(bf1_bar)\n",
    "autolabel(bf0_bar)\n",
    "ax.set_xlabel('FishingR')\n",
    "ax.set_ylabel('Count')\n",
    "ax.set_title('Brown frogs present/absent in various Fishing conditions')\n",
    "ax.set_xticks(list(grouped_for_fishingR.index))\n",
    "ax.legend()\n",
    "plt.show()\n"
   ]
  },
  {
   "cell_type": "markdown",
   "metadata": {},
   "source": [
    "- The above given bar chart shows the relationship between the existence of both type of frogs and fishing environment ('FishingR'). \n",
    "- When fishing intensity is low (0), we can observe higher number of frogs of both type. As fishing intensity increases, we can observe less number of frogs. This indicates that there exists some co-relation between both."
   ]
  },
  {
   "cell_type": "code",
   "execution_count": 22,
   "metadata": {},
   "outputs": [
    {
     "name": "stdout",
     "output_type": "stream",
     "text": [
      "This chart shows number of Green frogs and Brown frogs vs BuildingR\n"
     ]
    },
    {
     "data": {
      "image/png": "[encoded data removed]",
      "text/plain": [
       "<Figure size 720x288 with 2 Axes>"
      ]
     },
     "metadata": {
      "needs_background": "light"
     },
     "output_type": "display_data"
    }
   ],
   "source": [
    "# BuildingR vs frogs\n",
    "print('This chart shows number of Green frogs and Brown frogs vs BuildingR')\n",
    "grouped_for_buildingR = q3_df.groupby(['BuildingR']).count()\n",
    "fig, (ax1,ax2) = plt.subplots(1,2, figsize=(10,4)) \n",
    "sns.barplot(x=grouped_for_buildingR.index, y='Green frogs', data=grouped_for_buildingR, ax=ax1)\n",
    "sns.barplot(x=grouped_for_buildingR.index, y='Brown frogs', data=grouped_for_buildingR, ax=ax2)\n",
    "plt.show()\n"
   ]
  },
  {
   "cell_type": "markdown",
   "metadata": {},
   "source": [
    "- The above given bar chart shows the relationship between the existence of both type of frogs and distance to the nearest building ('BuildingR'). \n",
    "- We can observe higher number of frogs of both type when building is near (<=5 kms), As the distance increases, we can see a significant drop in the number of frogs. This indicates that there exists some co-relation between both."
   ]
  },
  {
   "cell_type": "code",
   "execution_count": 23,
   "metadata": {},
   "outputs": [
    {
     "name": "stdout",
     "output_type": "stream",
     "text": [
      "This chart shows number of Green frogs and Brown frogs vs PollutionR\n"
     ]
    },
    {
     "data": {
      "image/png": "[encoded data removed]",
      "text/plain": [
       "<Figure size 720x288 with 2 Axes>"
      ]
     },
     "metadata": {
      "needs_background": "light"
     },
     "output_type": "display_data"
    }
   ],
   "source": [
    "# PollutionR vs frogs\n",
    "print('This chart shows number of Green frogs and Brown frogs vs PollutionR')\n",
    "grouped_for_polutionR = q3_df.groupby(['PollutionR']).count()\n",
    "fig, (ax1,ax2) = plt.subplots(1,2, figsize=(10,4))  # 1 row, 2 columns\n",
    "sns.barplot(x=grouped_for_polutionR.index, y='Green frogs', data=grouped_for_polutionR, ax=ax1)\n",
    "sns.barplot(x=grouped_for_polutionR.index, y='Brown frogs', data=grouped_for_polutionR, ax=ax2)\n",
    "plt.show()"
   ]
  },
  {
   "cell_type": "markdown",
   "metadata": {},
   "source": [
    "- The above given bar chart shows the relationship between the existence of both type of frogs and intensity of Pollution ('PollutionR'). \n",
    "- The chart shows that higher number of frogs of both type exists when pollution intensity is very low (0). As the pollution intensity increases, we can see a significant drop in the number of frogs. This indicates that there exists some co-relation between both."
   ]
  },
  {
   "cell_type": "code",
   "execution_count": null,
   "metadata": {},
   "outputs": [],
   "source": []
  },
  {
   "cell_type": "markdown",
   "metadata": {},
   "source": [
    "   (d) For both frog types, train a logistic regression classifier to predict the presence of that frog type in the habitat. Use the descriptive features as chosen in Q3c. Apply the modification from Q3b if needed."
   ]
  },
  {
   "cell_type": "code",
   "execution_count": null,
   "metadata": {},
   "outputs": [],
   "source": [
    "# Your code"
   ]
  },
  {
   "cell_type": "markdown",
   "metadata": {},
   "source": [
    "   (e) For each of the two trained classifiers compute and print the confusion matrix."
   ]
  },
  {
   "cell_type": "code",
   "execution_count": null,
   "metadata": {},
   "outputs": [],
   "source": [
    "# Your code"
   ]
  },
  {
   "cell_type": "markdown",
   "metadata": {},
   "source": [
    "(f) Based on the information computed in Q3 so far, interpret and evaluate the two models and compare them. Why are they similar/different? Would you recommend the models and why (not)? How do you think the applied methods could be improved to get better results?"
   ]
  },
  {
   "cell_type": "markdown",
   "metadata": {},
   "source": [
    "Explanation: "
   ]
  },
  {
   "cell_type": "markdown",
   "metadata": {},
   "source": [
    "## Question 4 - Support Vector Machines (8 points):\n",
    "\n",
    "For this question (Q4), restrict your data set to the same features as in Q3. Similar to Q3, we want to train two distinct classifiers predicting the presence of green frogs and brown frogs in the habitat. \n",
    "\n",
    "In this question, we will use SVMs instead of logistic regression. In the following, consider *Green frogs* and *Brown frogs* to be potential target features, while all other features are potential descriptive features."
   ]
  },
  {
   "cell_type": "code",
   "execution_count": null,
   "metadata": {},
   "outputs": [],
   "source": [
    "# Your code"
   ]
  },
  {
   "cell_type": "markdown",
   "metadata": {},
   "source": [
    "   (a) Which of the potential descriptive features are suitable as an input for SVMs and which need to be modified first? Modify the data as needed and provide a brief explanation. Print the first two data rows of the modified data set."
   ]
  },
  {
   "cell_type": "code",
   "execution_count": null,
   "metadata": {},
   "outputs": [],
   "source": [
    "# Your code"
   ]
  },
  {
   "cell_type": "markdown",
   "metadata": {},
   "source": [
    "Explanation:"
   ]
  },
  {
   "cell_type": "markdown",
   "metadata": {},
   "source": [
    "   (b) For each frog type, consider the same set of 4 descriptive features as chosen in Q3 c). Generate for both target features a training and test set based on all data rows (for example, consider the sampling strategies as explained in the lecture) of the restricted data set. Briefly explain and motivate the choice of the sampling strategy as well as the size of the training and test set."
   ]
  },
  {
   "cell_type": "code",
   "execution_count": null,
   "metadata": {},
   "outputs": [],
   "source": [
    "# Your code"
   ]
  },
  {
   "cell_type": "markdown",
   "metadata": {},
   "source": [
    "Explanation:"
   ]
  },
  {
   "cell_type": "markdown",
   "metadata": {},
   "source": [
    "   (c) Use the training set to train 4 different SVMs (2 per frog type) with different parameter combinations. Use at least two distinct values for the parameters *kernel* and *C*.\n",
    "\n",
    "*Hint: depending on the size of the training data and chosen parameters, training the SVMs may take some time.*"
   ]
  },
  {
   "cell_type": "code",
   "execution_count": null,
   "metadata": {},
   "outputs": [],
   "source": [
    "# Your code"
   ]
  },
  {
   "cell_type": "markdown",
   "metadata": {},
   "source": [
    "   (d) Compute and print the mean accuracy and the classification report of the trained SVMs with respect to the test set (see instruction for examples)."
   ]
  },
  {
   "cell_type": "markdown",
   "metadata": {},
   "source": [
    "   (e) Based on the information computed in Q4 so far, interpret and evaluate the 4 SVMs and compare them. Why are they similar/different? Would you recommend using these SVMs and why (not)?"
   ]
  },
  {
   "cell_type": "markdown",
   "metadata": {},
   "source": [
    "Explanation:\n"
   ]
  },
  {
   "cell_type": "markdown",
   "metadata": {},
   "source": [
    "## Question 5 - Neural Networks (15 points)\n",
    "In this question consider the sampled_data, which is the dataset that you have created in the *Preprocessing of Dataset* section. The target features are the *different frogs*."
   ]
  },
  {
   "cell_type": "markdown",
   "metadata": {},
   "source": [
    "   (a) What are the possible inputs of your network?\n",
    "   \n",
    "     - Give the number of possible values of the different categorical inputs.\n",
    "     - Give the number of possible input patterns for the categorical data.."
   ]
  },
  {
   "cell_type": "code",
   "execution_count": null,
   "metadata": {},
   "outputs": [],
   "source": [
    "# Your code"
   ]
  },
  {
   "cell_type": "markdown",
   "metadata": {},
   "source": [
    "Explanation:"
   ]
  },
  {
   "cell_type": "markdown",
   "metadata": {},
   "source": [
    "   (b) Choose one categorical feature and two non-categorical features as input features. Create a data set with those features and the target columns (different frogs). Name this data set *NN_data*."
   ]
  },
  {
   "cell_type": "code",
   "execution_count": null,
   "metadata": {},
   "outputs": [],
   "source": [
    "# the student should choose -> results differ"
   ]
  },
  {
   "cell_type": "markdown",
   "metadata": {},
   "source": [
    "   (c) Convert the features that need to be converted using One-Hot-Encoding. Explain why you need (not) to convert these features. Name the data set *NN_data_encoded*."
   ]
  },
  {
   "cell_type": "markdown",
   "metadata": {},
   "source": [
    "Explanation:"
   ]
  },
  {
   "cell_type": "code",
   "execution_count": null,
   "metadata": {},
   "outputs": [],
   "source": [
    "# Your code"
   ]
  },
  {
   "cell_type": "markdown",
   "metadata": {},
   "source": [
    "   (d) Create a training and test set with 90% of the rows of your *NN_data_encoded* data set for training and 10% as test data set. Name them *train_NN* and *test_NN*"
   ]
  },
  {
   "cell_type": "code",
   "execution_count": null,
   "metadata": {},
   "outputs": [],
   "source": [
    "# Your code"
   ]
  },
  {
   "cell_type": "markdown",
   "metadata": {},
   "source": [
    "   (e) Train two different Neural Networks, one with a linear activation function and one with a non-linear activation function. All other settings stay default. Give the accuracy of each Neural Network for the training and test set (*train_NN* and *test_NN*. Which activation function seems to be better?"
   ]
  },
  {
   "cell_type": "code",
   "execution_count": null,
   "metadata": {},
   "outputs": [],
   "source": [
    "# (linear activation function):"
   ]
  },
  {
   "cell_type": "code",
   "execution_count": null,
   "metadata": {},
   "outputs": [],
   "source": [
    "#  (non-linear activation function):"
   ]
  },
  {
   "cell_type": "markdown",
   "metadata": {},
   "source": [
    "Explanation:"
   ]
  },
  {
   "cell_type": "markdown",
   "metadata": {},
   "source": [
    "   (f) Based on your result of (e) train 2 more Neural Networks with different settings (change at least 4 parameters (2 each)). Explain your parameters and the choice of the activation function. Evaluate the different Neural Networks with your test set by giving the accuracy. Try to increase the accuracy and analyse the factors that prohibit better accuracy."
   ]
  },
  {
   "cell_type": "code",
   "execution_count": null,
   "metadata": {},
   "outputs": [],
   "source": [
    "# code for 2 more NN"
   ]
  },
  {
   "cell_type": "markdown",
   "metadata": {},
   "source": [
    "Explanation:"
   ]
  },
  {
   "cell_type": "markdown",
   "metadata": {},
   "source": [
    "## Question 6 - Evaluation (10 Points)"
   ]
  },
  {
   "cell_type": "markdown",
   "metadata": {},
   "source": [
    "   (a) Consider two models of question 5 of your choice with the respective datasets (training and test data)."
   ]
  },
  {
   "cell_type": "markdown",
   "metadata": {},
   "source": [
    "- Create training and test data for 3-fold cross validation."
   ]
  },
  {
   "cell_type": "code",
   "execution_count": null,
   "metadata": {},
   "outputs": [],
   "source": [
    "# Your code"
   ]
  },
  {
   "cell_type": "markdown",
   "metadata": {},
   "source": [
    "- Print confusion matrices on the training data and the cell-by-cell summation of the results."
   ]
  },
  {
   "cell_type": "code",
   "execution_count": null,
   "metadata": {},
   "outputs": [],
   "source": [
    "# Your code for the confusion matrices on the training data"
   ]
  },
  {
   "cell_type": "markdown",
   "metadata": {},
   "source": [
    "- Print the cell-by-cell summation of the confusion matrices on the test data."
   ]
  },
  {
   "cell_type": "code",
   "execution_count": null,
   "metadata": {},
   "outputs": [],
   "source": [
    "# Your code for the confusion matrices on the test data"
   ]
  },
  {
   "cell_type": "markdown",
   "metadata": {},
   "source": [
    "- Print the precision, recall and f1-scores on the test data for each fold and model. Give the unaggregated results."
   ]
  },
  {
   "cell_type": "code",
   "execution_count": null,
   "metadata": {},
   "outputs": [],
   "source": [
    "# Your code for precision, recall and F1-scores on the test data"
   ]
  },
  {
   "cell_type": "markdown",
   "metadata": {},
   "source": [
    "- Compute accuracy scores on training and test data (give explicitly the result for each fold)."
   ]
  },
  {
   "cell_type": "code",
   "execution_count": null,
   "metadata": {},
   "outputs": [],
   "source": [
    "# Your code for accuracy scores on training and test data"
   ]
  },
  {
   "cell_type": "markdown",
   "metadata": {},
   "source": [
    "In order to turn numbers into insights, please comment on your findings. Motivate the answers to the following questions using the metrics and the findings in the **questions 2 through 5** of the assignment."
   ]
  },
  {
   "cell_type": "markdown",
   "metadata": {},
   "source": [
    "   (b) What is, in your opinion, the best model? Motivate your answer with the findings above."
   ]
  },
  {
   "cell_type": "markdown",
   "metadata": {},
   "source": [
    "Explanation:"
   ]
  },
  {
   "cell_type": "markdown",
   "metadata": {},
   "source": [
    "   (c) Does any model suffer from underfitting or overfitting? Motivate your answer with the findings above."
   ]
  },
  {
   "cell_type": "markdown",
   "metadata": {},
   "source": [
    "Explanation:"
   ]
  },
  {
   "cell_type": "markdown",
   "metadata": {},
   "source": [
    "## Question 7 - Clustering (8 points): "
   ]
  },
  {
   "cell_type": "markdown",
   "metadata": {},
   "source": [
    "(a) For this question, use the extracted data set you created in the preprocessing step (sampled_data). Drop all the columns expect \"VegetationR\", \"UseR\", \"FishingR\", \"RoadDistanceR\", \"BuildingR\", \"RoadDistanceR\", and \"PollutionR\". Use a dendogram to find the overview of the clusters that you can extract for the remaining columns."
   ]
  },
  {
   "cell_type": "code",
   "execution_count": 25,
   "metadata": {},
   "outputs": [
    {
     "data": {
      "image/png": "[encoded data removed]",
      "text/plain": [
       "<Figure size 432x288 with 1 Axes>"
      ]
     },
     "metadata": {
      "needs_background": "light"
     },
     "output_type": "display_data"
    }
   ],
   "source": [
    "# Your code\n",
    "cols_to_keep = ['VegetationR', 'UseR', 'FishingR', 'RoadDistanceR', 'BuildingR', 'RoadDistanceR', 'PollutionR']\n",
    "q7_df = sampled_df[cols_to_keep]\n",
    "X = q7_df.copy()\n",
    "plt.title('Hierarchical Clustering Dendrogram')\n",
    "dendrogram = sch.dendrogram(sch.linkage(X, method='ward'))\n",
    "plt.xlabel(\"Number of points in node (or index of point if no parenthesis).\")\n",
    "plt.show()"
   ]
  },
  {
   "cell_type": "markdown",
   "metadata": {},
   "source": [
    "(b) What does the vertical and horizontal axis show in the dendogram? Why the distance between the clusters in the dendogram generally decreases, when we go from top to down in the dendogram?"
   ]
  },
  {
   "cell_type": "markdown",
   "metadata": {},
   "source": [
    "## Explaination:\n",
    "- On the x axis we can see labels. Each label represents either number of data points in that cluster (node) or the index of a point if there exists only 1 point in the cluster.\n",
    "- The y axis is a measure of closeness of either individual data points or clusters. On the y axis we can see the distance between two clusters, longer vertical line means larger distance between either individual data points or clusters.\n",
    "- Starting from each label at the bottom, we can see a vertical line up to a horizontal line. The height of that horizontal line tells us about the distance at which this label was merged into another label or cluster. We can find that other cluster by following the other vertical line down again.\n",
    "- If the vertical lines have (almost) same height they are similar to each other, vertical lines with different heights are dissimilar. The greater the difference in height, the more dissimilarity between the two clusters or data points."
   ]
  },
  {
   "cell_type": "markdown",
   "metadata": {},
   "source": [
    "(c) Split the diagram at 3 and find the number the clusters at this point."
   ]
  },
  {
   "cell_type": "code",
   "execution_count": 26,
   "metadata": {},
   "outputs": [
    {
     "data": {
      "image/png": "[encoded data removed]",
      "text/plain": [
       "<Figure size 432x288 with 1 Axes>"
      ]
     },
     "metadata": {
      "needs_background": "light"
     },
     "output_type": "display_data"
    }
   ],
   "source": [
    "# Your code\n",
    "plt.title('Hierarchical Clustering Dendrogram at level 3')\n",
    "dendrogram = sch.dendrogram(sch.linkage(X, method='ward'), truncate_mode='level', p=3)\n",
    "plt.xlabel(\"Number of points in node (or index of point if no parenthesis).\")\n",
    "plt.show()"
   ]
  },
  {
   "cell_type": "markdown",
   "metadata": {},
   "source": [
    "## Observations:\n",
    "- One of the weakest aspects of performing cluster analysis is that we have to figure out number of clusters we want to work with and how we want to do this. However, there are some methods to do this task, it involves some measure of dis/similarity between clusters (usually distance) or to adapt statistical rules or tests to determine the right number of clusters. One method that works fairly well is to use Dendrogram (although it tends to underestimate the actual number of clusters).\n",
    "- From the above given Dendrogram, we can see that 4 clusters divide the cells into much more homogenous groups than 3 clusters. Due to this reasoning, we picked 4 clusters as our final solution. \n",
    "\n"
   ]
  },
  {
   "cell_type": "markdown",
   "metadata": {},
   "source": [
    "(d) Using agglomerative clustering with the number of clusters found in the previous section and a scatter diagram, show the discovered cluster for \"VegetationR\" and \"UseR\" in different colors. "
   ]
  },
  {
   "cell_type": "code",
   "execution_count": 27,
   "metadata": {},
   "outputs": [],
   "source": [
    "# Create Agglomerative Clustering model and fit the data to the model\n",
    "X = sampled_df[['VegetationR','UseR']]\n",
    "model = AgglomerativeClustering(n_clusters=4, affinity='euclidean', linkage='ward').fit_predict(X)\n",
    "X.insert((X.shape[1]),'Agg_cluster',model) # insert cluster number for each data point in the dataframe"
   ]
  },
  {
   "cell_type": "code",
   "execution_count": 28,
   "metadata": {},
   "outputs": [
    {
     "data": {
      "image/png": "[encoded data removed]",
      "text/plain": [
       "<Figure size 720x576 with 1 Axes>"
      ]
     },
     "metadata": {
      "needs_background": "light"
     },
     "output_type": "display_data"
    }
   ],
   "source": [
    "# Create scatter plot for the discovered clusters \n",
    "fig = plt.figure(figsize=(10,8))\n",
    "ax = fig.add_subplot(111)\n",
    "scatter = ax.scatter(X['VegetationR'],X['UseR'],c=model,s=400)\n",
    "ax.set_title('Agglomerative Clustering')\n",
    "ax.set_xlabel('VegetationR')\n",
    "ax.set_ylabel('UseR')\n",
    "plt.show()"
   ]
  },
  {
   "cell_type": "markdown",
   "metadata": {},
   "source": [
    "## Observations\n",
    "- In this scatter plot we can see 4 different clusters in 4 different colors (colors are applied in a random order). "
   ]
  }
 ],
 "metadata": {
  "celltoolbar": "Raw Cell Format",
  "kernelspec": {
   "display_name": "Python 3",
   "language": "python",
   "name": "python3"
  },
  "language_info": {
   "codemirror_mode": {
    "name": "ipython",
    "version": 3
   },
   "file_extension": ".py",
   "mimetype": "text/x-python",
   "name": "python",
   "nbconvert_exporter": "python",
   "pygments_lexer": "ipython3",
   "version": "3.6.5"
  }
 },
 "nbformat": 4,
 "nbformat_minor": 2
}
